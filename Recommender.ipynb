{
 "cells": [
  {
   "cell_type": "code",
   "execution_count": 2,
   "metadata": {},
   "outputs": [
    {
     "name": "stderr",
     "output_type": "stream",
     "text": [
      "Loading required package: lattice\n",
      "Loading required package: ggplot2\n"
     ]
    }
   ],
   "source": [
    "# Practice Problem in analytics Vidya\n",
    "# https://datahack.analyticsvidhya.com/contest/practice-problem-recommendation-engine/\n",
    "library('caret')"
   ]
  },
  {
   "cell_type": "code",
   "execution_count": 3,
   "metadata": {},
   "outputs": [],
   "source": [
    "train <- read.csv(\"train.csv\")\n",
    "test <- read.csv(\"test.csv\")"
   ]
  },
  {
   "cell_type": "code",
   "execution_count": 4,
   "metadata": {},
   "outputs": [
    {
     "data": {
      "text/html": [
       "40"
      ],
      "text/latex": [
       "40"
      ],
      "text/markdown": [
       "40"
      ],
      "text/plain": [
       "[1] 40"
      ]
     },
     "metadata": {},
     "output_type": "display_data"
    }
   ],
   "source": [
    "#------------------------------------------------------------------\n",
    "temp<-setdiff(train$user_id,test$user_id) # 40 New users who are in Train but not in test\n",
    "length(temp)"
   ]
  },
  {
   "cell_type": "code",
   "execution_count": 5,
   "metadata": {},
   "outputs": [
    {
     "data": {
      "text/html": [
       "12"
      ],
      "text/latex": [
       "12"
      ],
      "text/markdown": [
       "12"
      ],
      "text/plain": [
       "[1] 12"
      ]
     },
     "metadata": {},
     "output_type": "display_data"
    }
   ],
   "source": [
    "temp<-setdiff(test$user_id,train$user_id) # 12 users in test but not in train\n",
    "length(temp)"
   ]
  },
  {
   "cell_type": "code",
   "execution_count": 6,
   "metadata": {},
   "outputs": [
    {
     "data": {
      "text/html": [
       "1496"
      ],
      "text/latex": [
       "1496"
      ],
      "text/markdown": [
       "1496"
      ],
      "text/plain": [
       "[1] 1496"
      ]
     },
     "metadata": {},
     "output_type": "display_data"
    }
   ],
   "source": [
    "temp<-setdiff(train$problem_id,test$problem_id) #1496 new problems which are in train not in test\n",
    "length(temp)"
   ]
  },
  {
   "cell_type": "code",
   "execution_count": 7,
   "metadata": {},
   "outputs": [
    {
     "data": {
      "text/html": [
       "436"
      ],
      "text/latex": [
       "436"
      ],
      "text/markdown": [
       "436"
      ],
      "text/plain": [
       "[1] 436"
      ]
     },
     "metadata": {},
     "output_type": "display_data"
    }
   ],
   "source": [
    "temp<-setdiff(test$problem_id,train$problem_id) #436 new problems which are in test not in train\n",
    "length(temp)"
   ]
  },
  {
   "cell_type": "code",
   "execution_count": 8,
   "metadata": {},
   "outputs": [
    {
     "data": {
      "text/html": [
       "<ol class=list-inline>\n",
       "\t<li>155295</li>\n",
       "\t<li>2</li>\n",
       "</ol>\n"
      ],
      "text/latex": [
       "\\begin{enumerate*}\n",
       "\\item 155295\n",
       "\\item 2\n",
       "\\end{enumerate*}\n"
      ],
      "text/markdown": [
       "1. 155295\n",
       "2. 2\n",
       "\n",
       "\n"
      ],
      "text/plain": [
       "[1] 155295      2"
      ]
     },
     "metadata": {},
     "output_type": "display_data"
    }
   ],
   "source": [
    "dim(setdiff(train[,1:2],test[,2:3]))\n",
    "# [1] 155295      2         # "
   ]
  },
  {
   "cell_type": "code",
   "execution_count": 9,
   "metadata": {},
   "outputs": [
    {
     "data": {
      "text/html": [
       "<ol class=list-inline>\n",
       "\t<li>155295</li>\n",
       "\t<li>3</li>\n",
       "</ol>\n"
      ],
      "text/latex": [
       "\\begin{enumerate*}\n",
       "\\item 155295\n",
       "\\item 3\n",
       "\\end{enumerate*}\n"
      ],
      "text/markdown": [
       "1. 155295\n",
       "2. 3\n",
       "\n",
       "\n"
      ],
      "text/plain": [
       "[1] 155295      3"
      ]
     },
     "metadata": {},
     "output_type": "display_data"
    }
   ],
   "source": [
    "dim(train)\n",
    "# [1] 155295      3         # Meaning none of the problem & user combination in train repeated in test\n",
    "#------------------------------------------------------------------"
   ]
  },
  {
   "cell_type": "code",
   "execution_count": 10,
   "metadata": {},
   "outputs": [],
   "source": [
    "#Following are the two separate aggregated data sets one group by user and the other by problem \n",
    "useragg <- read.csv(\"useragg.csv\")\n",
    "probagg <- read.csv(\"problemagg.csv\")"
   ]
  },
  {
   "cell_type": "code",
   "execution_count": 11,
   "metadata": {},
   "outputs": [],
   "source": [
    "names(probagg)=c(\"problem_id\",\"prob.average.att\",\"Max.prob.attempts\",\"Min.prob.attempts\" )\n",
    "names(useragg)=c(\"user_id\",\"Min.user.attempts\",\"Max.user.attempts\",\"user.average.att\",\"Count.of.user\" )"
   ]
  },
  {
   "cell_type": "code",
   "execution_count": 12,
   "metadata": {},
   "outputs": [
    {
     "data": {
      "text/plain": [
       "      user_id     submission_count problem_solved    contribution    \n",
       " user_1   :   1   Min.   :   1.0   Min.   :   0.0   Min.   :-64.000  \n",
       " user_10  :   1   1st Qu.:  66.5   1st Qu.:  53.0   1st Qu.:  0.000  \n",
       " user_100 :   1   Median : 169.0   Median : 146.0   Median :  0.000  \n",
       " user_1000:   1   Mean   : 299.5   Mean   : 267.9   Mean   :  4.102  \n",
       " user_1001:   1   3rd Qu.: 390.0   3rd Qu.: 349.0   3rd Qu.:  0.000  \n",
       " user_1002:   1   Max.   :4570.0   Max.   :4476.0   Max.   :171.000  \n",
       " (Other)  :3565                                                      \n",
       "       country     follower_count     last_online_time_seconds   max_rating   \n",
       "           :1153   Min.   :    0.00   Min.   :1.484e+09        Min.   :303.9  \n",
       " India     : 619   1st Qu.:    4.00   1st Qu.:1.503e+09        1st Qu.:317.7  \n",
       " Bangladesh: 329   Median :   13.00   Median :1.505e+09        Median :355.8  \n",
       " Russia    : 262   Mean   :   46.69   Mean   :1.503e+09        Mean   :390.4  \n",
       " China     : 162   3rd Qu.:   40.00   3rd Qu.:1.506e+09        3rd Qu.:445.0  \n",
       " Egypt     :  99   Max.   :10575.00   Max.   :1.506e+09        Max.   :983.1  \n",
       " (Other)   : 947                                                              \n",
       "     rating                rank      registration_time_seconds\n",
       " Min.   :  0.0   advanced    : 570   Min.   :1.265e+09        \n",
       " 1st Qu.:279.2   beginner    :1509   1st Qu.:1.416e+09        \n",
       " Median :329.7   expert      :  82   Median :1.449e+09        \n",
       " Mean   :350.2   intermediate:1410   Mean   :1.435e+09        \n",
       " 3rd Qu.:413.4                       3rd Qu.:1.470e+09        \n",
       " Max.   :911.1                       Max.   :1.484e+09        \n",
       "                                                              "
      ]
     },
     "metadata": {},
     "output_type": "display_data"
    }
   ],
   "source": [
    "# -------------------------------------------------------------\n",
    "#Users data imputation goes here.\n",
    "users <- read.csv(\"user_data.csv\")\n",
    "summary(users)"
   ]
  },
  {
   "cell_type": "code",
   "execution_count": 13,
   "metadata": {},
   "outputs": [],
   "source": [
    "for (i in 1:length(users$country)){\n",
    "    if (users$country[i]==\"\"){\n",
    "        users$country[i]=NA\n",
    "  }\n",
    "}\n",
    "users$country_num=as.numeric(users$country)"
   ]
  },
  {
   "cell_type": "code",
   "execution_count": 14,
   "metadata": {},
   "outputs": [],
   "source": [
    "join_users=merge(x=users,y=useragg,by='user_id',all.x=TRUE)\n",
    "impute_model <- preProcess(join_users, method = c(\"knnImpute\"))\n",
    "library('RANN')\n",
    "join_users_impute<-predict(impute_model,join_users)"
   ]
  },
  {
   "cell_type": "code",
   "execution_count": 15,
   "metadata": {},
   "outputs": [],
   "source": [
    "# -------------------------------------------------------------\n",
    "# Problem Data imputation \n",
    "problem <- read.csv(\"problem_data.csv\")\n",
    "join_problem=merge(x=problem,y=probagg,by='problem_id',all.x=TRUE)"
   ]
  },
  {
   "cell_type": "code",
   "execution_count": 16,
   "metadata": {},
   "outputs": [],
   "source": [
    "#Replace spaces with NA\n",
    "for(i in 1:length(join_problem$level_type)){\n",
    "  if (join_problem$level_type[i]==\"\"){\n",
    "    join_problem$level_type[i]=NA\n",
    "  }\n",
    "}\n",
    "join_problem$level_type_num=as.numeric(join_problem$level_type)"
   ]
  },
  {
   "cell_type": "code",
   "execution_count": 17,
   "metadata": {},
   "outputs": [],
   "source": [
    "for(i in 1:length(join_problem$tags)){\n",
    "  if (join_problem$tags[i]==\"\"){\n",
    "    join_problem$tags[i]=NA\n",
    "  }\n",
    "}\n",
    "\n",
    "join_problem$tags_num=as.numeric(join_problem$tags)"
   ]
  },
  {
   "cell_type": "code",
   "execution_count": 18,
   "metadata": {},
   "outputs": [],
   "source": [
    "join_problem_complete=join_problem[complete.cases(join_problem),]\n",
    "#join_problem_notcomplete=join_problem[!complete.cases(join_problem),]\n",
    "\n",
    "impute_model1 <- preProcess(join_problem_complete, method = c(\"medianImpute\"))\n",
    "library('RANN')\n",
    "join_problem_impute<-predict(impute_model1,join_problem)\n",
    "#-----------------------------------------------------------------------"
   ]
  },
  {
   "cell_type": "code",
   "execution_count": 19,
   "metadata": {},
   "outputs": [],
   "source": [
    "#-----------------------------------------------------------------------\n",
    "#Joining features with the train set and test set\n",
    "#https://stackoverflow.com/questions/1299871/how-to-join-merge-data-frames-inner-outer-left-right\n",
    "\n",
    "#Blend with the user data set that and the problem dataset.\n",
    "my_test_blend=merge(x=test,y=join_users_impute,by='user_id',all.x=TRUE)\n",
    "my_train_blend=merge(x=train,y=join_users_impute,by='user_id',all.x=TRUE)\n",
    "\n",
    "my_test_blend=merge(x=my_test_blend,y=join_problem_impute,by='problem_id',all.x=TRUE)\n",
    "my_train_blend=merge(x=my_train_blend,y=join_problem_impute,by='problem_id',all.x=TRUE)\n",
    "\n",
    "testSet  <- my_test_blend\n",
    "trainSet <- my_train_blend\n",
    "rm(my_test_blend,my_train_blend)"
   ]
  },
  {
   "cell_type": "code",
   "execution_count": 23,
   "metadata": {},
   "outputs": [],
   "source": [
    "#modeling part\n",
    "predictors <-names(trainSet[,c(-1,-2,-3,-7,-19,-21,-27)])\n",
    "outcomeName <-names(trainSet)[27]\n",
    "trainSet$target=as.factor(trainSet$attempts_range)"
   ]
  },
  {
   "cell_type": "code",
   "execution_count": 24,
   "metadata": {},
   "outputs": [],
   "source": [
    "#KNN \n",
    "fitControl <- trainControl(\n",
    "  method = \"repeatedcv\", # Repeated Cross validation   \n",
    "  number = 3,            # Three fold cross validation\n",
    "  repeats = 1)           # Repeat five times\n",
    "\n",
    "train_data=trainSet[,c(predictors,outcomeName)]"
   ]
  },
  {
   "cell_type": "code",
   "execution_count": null,
   "metadata": {},
   "outputs": [],
   "source": [
    "#Random Forest\n",
    "model_rforest<-train(target~.,data=train_data,\n",
    "                 trControl=fitControl,method='cforest')"
   ]
  },
  {
   "cell_type": "code",
   "execution_count": null,
   "metadata": {},
   "outputs": [],
   "source": []
  },
  {
   "cell_type": "code",
   "execution_count": 66,
   "metadata": {},
   "outputs": [],
   "source": [
    "model_knn<-train(target~.,data=train_data,\n",
    "                 trControl=fitControl,method='knn')"
   ]
  },
  {
   "cell_type": "code",
   "execution_count": 69,
   "metadata": {},
   "outputs": [
    {
     "data": {
      "image/png": "[encoded data removed]",
      "text/plain": [
       "plot without title"
      ]
     },
     "metadata": {},
     "output_type": "display_data"
    }
   ],
   "source": [
    "plot(model_knn)"
   ]
  },
  {
   "cell_type": "code",
   "execution_count": 67,
   "metadata": {},
   "outputs": [],
   "source": [
    "testSet$predicted=predict(model_knn,testSet[,predictors])\n",
    "temp=merge(test,testSet,by=c('user_id','problem_id'),all.x=TRUE)\n",
    "upload<-testSet[,c(\"ID\",\"predicted\")]\n",
    "names(upload)<-c(\"ID\",\"attempts_range\")\n",
    "library(\"xlsx\")\n",
    "write.xlsx2(upload, file=\"upload.xlsx\", sheetName=\"sheet1\", row.names=F)"
   ]
  }
 ],
 "metadata": {
  "kernelspec": {
   "display_name": "R",
   "language": "R",
   "name": "ir"
  },
  "language_info": {
   "codemirror_mode": "r",
   "file_extension": ".r",
   "mimetype": "text/x-r-source",
   "name": "R",
   "pygments_lexer": "r",
   "version": "3.4.4"
  }
 },
 "nbformat": 4,
 "nbformat_minor": 2
}

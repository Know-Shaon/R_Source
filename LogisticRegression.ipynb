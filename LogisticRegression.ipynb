{
 "cells": [
  {
   "cell_type": "code",
   "execution_count": 1,
   "metadata": {},
   "outputs": [],
   "source": [
    "#----------------------------------------------------\n",
    "#Sigmoid function \n",
    "sigmoid = function(x) {\n",
    "  return(1/(1+exp(-x)))\n",
    "}"
   ]
  },
  {
   "cell_type": "code",
   "execution_count": 7,
   "metadata": {},
   "outputs": [
    {
     "data": {
      "image/png": "[encoded data removed]",
      "text/plain": [
       "plot without title"
      ]
     },
     "metadata": {},
     "output_type": "display_data"
    }
   ],
   "source": [
    "x=seq(-6,6,0.01)\n",
    "plot(x, sigmoid(x), col='blue')"
   ]
  },
  {
   "cell_type": "code",
   "execution_count": 68,
   "metadata": {},
   "outputs": [],
   "source": [
    "log1 = function(x){\n",
    "    return(-log(x))\n",
    "}\n",
    "\n",
    "log2 = function(x){\n",
    "    return(-log(1-x))\n",
    "}"
   ]
  },
  {
   "cell_type": "code",
   "execution_count": 81,
   "metadata": {},
   "outputs": [
    {
     "data": {
      "text/html": [
       "<ol class=list-inline>\n",
       "\t<li>2.30258509299405</li>\n",
       "\t<li>1.6094379124341</li>\n",
       "\t<li>1.20397280432594</li>\n",
       "\t<li>0.916290731874155</li>\n",
       "\t<li>0.693147180559945</li>\n",
       "\t<li>0.510825623765991</li>\n",
       "\t<li>0.356674943938732</li>\n",
       "\t<li>0.22314355131421</li>\n",
       "\t<li>0.105360515657826</li>\n",
       "</ol>\n"
      ],
      "text/latex": [
       "\\begin{enumerate*}\n",
       "\\item 2.30258509299405\n",
       "\\item 1.6094379124341\n",
       "\\item 1.20397280432594\n",
       "\\item 0.916290731874155\n",
       "\\item 0.693147180559945\n",
       "\\item 0.510825623765991\n",
       "\\item 0.356674943938732\n",
       "\\item 0.22314355131421\n",
       "\\item 0.105360515657826\n",
       "\\end{enumerate*}\n"
      ],
      "text/markdown": [
       "1. 2.30258509299405\n",
       "2. 1.6094379124341\n",
       "3. 1.20397280432594\n",
       "4. 0.916290731874155\n",
       "5. 0.693147180559945\n",
       "6. 0.510825623765991\n",
       "7. 0.356674943938732\n",
       "8. 0.22314355131421\n",
       "9. 0.105360515657826\n",
       "\n",
       "\n"
      ],
      "text/plain": [
       "[1] 2.3025851 1.6094379 1.2039728 0.9162907 0.6931472 0.5108256 0.3566749\n",
       "[8] 0.2231436 0.1053605"
      ]
     },
     "metadata": {},
     "output_type": "display_data"
    }
   ],
   "source": [
    "# Error term when Y=1\n",
    "a=seq(.1,.9,.1)\n",
    "log1(a)"
   ]
  },
  {
   "cell_type": "code",
   "execution_count": 82,
   "metadata": {},
   "outputs": [
    {
     "data": {
      "text/html": [
       "<ol class=list-inline>\n",
       "\t<li>0.105360515657826</li>\n",
       "\t<li>0.22314355131421</li>\n",
       "\t<li>0.356674943938732</li>\n",
       "\t<li>0.510825623765991</li>\n",
       "\t<li>0.693147180559945</li>\n",
       "\t<li>0.916290731874155</li>\n",
       "\t<li>1.20397280432594</li>\n",
       "\t<li>1.6094379124341</li>\n",
       "\t<li>2.30258509299405</li>\n",
       "</ol>\n"
      ],
      "text/latex": [
       "\\begin{enumerate*}\n",
       "\\item 0.105360515657826\n",
       "\\item 0.22314355131421\n",
       "\\item 0.356674943938732\n",
       "\\item 0.510825623765991\n",
       "\\item 0.693147180559945\n",
       "\\item 0.916290731874155\n",
       "\\item 1.20397280432594\n",
       "\\item 1.6094379124341\n",
       "\\item 2.30258509299405\n",
       "\\end{enumerate*}\n"
      ],
      "text/markdown": [
       "1. 0.105360515657826\n",
       "2. 0.22314355131421\n",
       "3. 0.356674943938732\n",
       "4. 0.510825623765991\n",
       "5. 0.693147180559945\n",
       "6. 0.916290731874155\n",
       "7. 1.20397280432594\n",
       "8. 1.6094379124341\n",
       "9. 2.30258509299405\n",
       "\n",
       "\n"
      ],
      "text/plain": [
       "[1] 0.1053605 0.2231436 0.3566749 0.5108256 0.6931472 0.9162907 1.2039728\n",
       "[8] 1.6094379 2.3025851"
      ]
     },
     "metadata": {},
     "output_type": "display_data"
    }
   ],
   "source": [
    "# Error term when Y=0\n",
    "a=seq(.1,.9,.1)\n",
    "log2(a)"
   ]
  },
  {
   "cell_type": "code",
   "execution_count": 89,
   "metadata": {},
   "outputs": [],
   "source": [
    "#The above two terms are combinedly written as below\n",
    "#log loss\n",
    "logloss = function(actual,predicted){\n",
    "    return(-(actual*log(predicted)+(1-actual)*log(1-predicted)))\n",
    "}"
   ]
  },
  {
   "cell_type": "code",
   "execution_count": 90,
   "metadata": {},
   "outputs": [
    {
     "data": {
      "text/html": [
       "Inf"
      ],
      "text/latex": [
       "Inf"
      ],
      "text/markdown": [
       "Inf"
      ],
      "text/plain": [
       "[1] Inf"
      ]
     },
     "metadata": {},
     "output_type": "display_data"
    }
   ],
   "source": [
    "logloss(1,0)"
   ]
  },
  {
   "cell_type": "code",
   "execution_count": 12,
   "metadata": {},
   "outputs": [
    {
     "name": "stderr",
     "output_type": "stream",
     "text": [
      "Installing package into 'C:/Users/v m kishore/Documents/R/win-library/3.5'\n",
      "(as 'lib' is unspecified)\n",
      "Warning message:\n",
      "\"package 'ISLR' is in use and will not be installed\"Installing package into 'C:/Users/v m kishore/Documents/R/win-library/3.5'\n",
      "(as 'lib' is unspecified)\n",
      "Warning message:\n",
      "\"package 'tibble' is in use and will not be installed\"Installing package into 'C:/Users/v m kishore/Documents/R/win-library/3.5'\n",
      "(as 'lib' is unspecified)\n"
     ]
    },
    {
     "name": "stdout",
     "output_type": "stream",
     "text": [
      "package 'pROC' successfully unpacked and MD5 sums checked\n",
      "\n",
      "The downloaded binary packages are in\n",
      "\tC:\\Users\\v m kishore\\AppData\\Local\\Temp\\RtmpE1JNBT\\downloaded_packages\n",
      "'data.frame':\t10000 obs. of  4 variables:\n",
      " $ default: Factor w/ 2 levels \"No\",\"Yes\": 1 1 1 1 1 1 1 1 1 1 ...\n",
      " $ student: Factor w/ 2 levels \"No\",\"Yes\": 1 2 1 1 1 2 1 2 1 1 ...\n",
      " $ balance: num  730 817 1074 529 786 ...\n",
      " $ income : num  44362 12106 31767 35704 38463 ...\n"
     ]
    },
    {
     "data": {
      "text/plain": [
       " default    student       balance           income     \n",
       " No :9667   No :7056   Min.   :   0.0   Min.   :  772  \n",
       " Yes: 333   Yes:2944   1st Qu.: 481.7   1st Qu.:21340  \n",
       "                       Median : 823.6   Median :34553  \n",
       "                       Mean   : 835.4   Mean   :33517  \n",
       "                       3rd Qu.:1166.3   3rd Qu.:43808  \n",
       "                       Max.   :2654.3   Max.   :73554  "
      ]
     },
     "metadata": {},
     "output_type": "display_data"
    }
   ],
   "source": [
    "#----------------------------------------------------\n",
    "#Source\n",
    "#https://rpubs.com/aelhabr/logistic-regression-tutorial\n",
    "install.packages(\"ISLR\")\n",
    "install.packages(\"tibble\")\n",
    "install.packages(\"pROC\")\n",
    "library(\"ISLR\")\n",
    "library(\"tibble\")\n",
    "library(gridExtra)\n",
    "library(dplyr)\n",
    "library(tidyr)\n",
    "str(Default)\n",
    "summary(Default)"
   ]
  },
  {
   "cell_type": "code",
   "execution_count": 13,
   "metadata": {},
   "outputs": [
    {
     "name": "stderr",
     "output_type": "stream",
     "text": [
      "Warning message:\n",
      "\"package 'ggplot2' was built under R version 3.5.2\""
     ]
    },
    {
     "data": {
      "image/png": "[encoded data removed]",
      "text/plain": [
       "plot without title"
      ]
     },
     "metadata": {},
     "output_type": "display_data"
    }
   ],
   "source": [
    "#--------------------------------------------------------------------------\n",
    "#Data Exploration --- Summary statistics and visualization \n",
    "#--------------------------------------------------------------------------\n",
    "library(ggplot2)\n",
    "p1=ggplot(Default,aes(x=balance,fill=default))+geom_density()\n",
    "p2=ggplot(Default,aes(x=student,fill=default))+geom_bar()\n",
    "p3=ggplot(Default,aes(x=income,fill=default))+geom_density()\n",
    "grid.arrange(p1,p2,p3,ncol=2)"
   ]
  },
  {
   "cell_type": "code",
   "execution_count": 14,
   "metadata": {},
   "outputs": [
    {
     "data": {
      "image/png": "[encoded data removed]",
      "text/plain": [
       "plot without title"
      ]
     },
     "metadata": {},
     "output_type": "display_data"
    }
   ],
   "source": [
    "p1=ggplot(Default %>% filter(default=='No'),aes(x=income))+geom_density()\n",
    "p2=ggplot(Default %>% filter(default=='Yes'),aes(x=income))+geom_density()\n",
    "grid.arrange(p1,p2,ncol=1)"
   ]
  },
  {
   "cell_type": "code",
   "execution_count": 15,
   "metadata": {},
   "outputs": [
    {
     "data": {
      "text/html": [
       "<table>\n",
       "<thead><tr><th scope=col>mean(balance)</th><th scope=col>variance</th><th scope=col>sd</th></tr></thead>\n",
       "<tbody>\n",
       "\t<tr><td>1747.822</td><td>116463  </td><td>341.2668</td></tr>\n",
       "</tbody>\n",
       "</table>\n"
      ],
      "text/latex": [
       "\\begin{tabular}{r|lll}\n",
       " mean(balance) & variance & sd\\\\\n",
       "\\hline\n",
       "\t 1747.822 & 116463   & 341.2668\\\\\n",
       "\\end{tabular}\n"
      ],
      "text/markdown": [
       "\n",
       "| mean(balance) | variance | sd |\n",
       "|---|---|---|\n",
       "| 1747.822 | 116463   | 341.2668 |\n",
       "\n"
      ],
      "text/plain": [
       "  mean(balance) variance sd      \n",
       "1 1747.822      116463   341.2668"
      ]
     },
     "metadata": {},
     "output_type": "display_data"
    },
    {
     "data": {
      "text/html": [
       "<table>\n",
       "<thead><tr><th scope=col>mean(balance)</th><th scope=col>variance</th><th scope=col>sd</th></tr></thead>\n",
       "<tbody>\n",
       "\t<tr><td>803.9438</td><td>208370.6</td><td>456.4762</td></tr>\n",
       "</tbody>\n",
       "</table>\n"
      ],
      "text/latex": [
       "\\begin{tabular}{r|lll}\n",
       " mean(balance) & variance & sd\\\\\n",
       "\\hline\n",
       "\t 803.9438 & 208370.6 & 456.4762\\\\\n",
       "\\end{tabular}\n"
      ],
      "text/markdown": [
       "\n",
       "| mean(balance) | variance | sd |\n",
       "|---|---|---|\n",
       "| 803.9438 | 208370.6 | 456.4762 |\n",
       "\n"
      ],
      "text/plain": [
       "  mean(balance) variance sd      \n",
       "1 803.9438      208370.6 456.4762"
      ]
     },
     "metadata": {},
     "output_type": "display_data"
    },
    {
     "data": {
      "text/html": [
       "<table>\n",
       "<thead><tr><th scope=col>mean(income)</th><th scope=col>variance</th><th scope=col>sd</th></tr></thead>\n",
       "<tbody>\n",
       "\t<tr><td>32089.15 </td><td>190556520</td><td>13804.22 </td></tr>\n",
       "</tbody>\n",
       "</table>\n"
      ],
      "text/latex": [
       "\\begin{tabular}{r|lll}\n",
       " mean(income) & variance & sd\\\\\n",
       "\\hline\n",
       "\t 32089.15  & 190556520 & 13804.22 \\\\\n",
       "\\end{tabular}\n"
      ],
      "text/markdown": [
       "\n",
       "| mean(income) | variance | sd |\n",
       "|---|---|---|\n",
       "| 32089.15  | 190556520 | 13804.22  |\n",
       "\n"
      ],
      "text/plain": [
       "  mean(income) variance  sd      \n",
       "1 32089.15     190556520 13804.22"
      ]
     },
     "metadata": {},
     "output_type": "display_data"
    },
    {
     "data": {
      "text/html": [
       "<table>\n",
       "<thead><tr><th scope=col>mean(income)</th><th scope=col>variance</th><th scope=col>sd</th></tr></thead>\n",
       "<tbody>\n",
       "\t<tr><td>33566.17 </td><td>177375816</td><td>13318.25 </td></tr>\n",
       "</tbody>\n",
       "</table>\n"
      ],
      "text/latex": [
       "\\begin{tabular}{r|lll}\n",
       " mean(income) & variance & sd\\\\\n",
       "\\hline\n",
       "\t 33566.17  & 177375816 & 13318.25 \\\\\n",
       "\\end{tabular}\n"
      ],
      "text/markdown": [
       "\n",
       "| mean(income) | variance | sd |\n",
       "|---|---|---|\n",
       "| 33566.17  | 177375816 | 13318.25  |\n",
       "\n"
      ],
      "text/plain": [
       "  mean(income) variance  sd      \n",
       "1 33566.17     177375816 13318.25"
      ]
     },
     "metadata": {},
     "output_type": "display_data"
    }
   ],
   "source": [
    "Default%>% filter(default=='Yes') %>% summarise(mean(balance),variance=var(balance),sd=sd(balance))\n",
    "Default%>% filter(default=='No') %>% summarise(mean(balance),variance=var(balance),sd=sd(balance))\n",
    "\n",
    "Default%>% filter(default=='Yes') %>% summarise(mean(income),variance=var(income),sd=sd(income))\n",
    "Default%>% filter(default=='No') %>% summarise(mean(income),variance=var(income),sd=sd(income))\n",
    "#--------------------------------------------------------------------------"
   ]
  },
  {
   "cell_type": "code",
   "execution_count": 16,
   "metadata": {},
   "outputs": [
    {
     "data": {
      "text/plain": [
       "              Df    Sum Sq   Mean Sq F value Pr(>F)  \n",
       "default        1 7.023e+08 702276944    3.95 0.0469 *\n",
       "Residuals   9998 1.778e+12 177813503                 \n",
       "---\n",
       "Signif. codes:  0 '***' 0.001 '**' 0.01 '*' 0.05 '.' 0.1 ' ' 1"
      ]
     },
     "metadata": {},
     "output_type": "display_data"
    }
   ],
   "source": [
    "#--------------------------------------------------------------------------\n",
    "#Significance test\n",
    "#--------------------------------------------------------------------------\n",
    "#cor(Default$income,Default$balance)\n",
    "test=aov(income ~ default,data=Default)\n",
    "summary(test)"
   ]
  },
  {
   "cell_type": "code",
   "execution_count": 17,
   "metadata": {},
   "outputs": [
    {
     "data": {
      "text/plain": [
       "              Df    Sum Sq   Mean Sq F value Pr(>F)    \n",
       "default        1 2.868e+08 286792390    1397 <2e-16 ***\n",
       "Residuals   9998 2.053e+09    205319                   \n",
       "---\n",
       "Signif. codes:  0 '***' 0.001 '**' 0.01 '*' 0.05 '.' 0.1 ' ' 1"
      ]
     },
     "metadata": {},
     "output_type": "display_data"
    }
   ],
   "source": [
    "test=aov(balance ~ default,data=Default)\n",
    "summary(test)"
   ]
  },
  {
   "cell_type": "code",
   "execution_count": 18,
   "metadata": {},
   "outputs": [
    {
     "name": "stderr",
     "output_type": "stream",
     "text": [
      "\n",
      "Attaching package: 'MASS'\n",
      "\n",
      "The following object is masked from 'package:dplyr':\n",
      "\n",
      "    select\n",
      "\n"
     ]
    },
    {
     "name": "stdout",
     "output_type": "stream",
     "text": [
      "\n",
      "\tPearson's Chi-squared test with Yates' continuity correction\n",
      "\n",
      "data:  table(Default$student, Default$default)\n",
      "X-squared = 12.117, df = 1, p-value = 0.0004997\n",
      "\n"
     ]
    }
   ],
   "source": [
    "library(\"MASS\")\n",
    "print(chisq.test(table(Default$student,Default$default)))"
   ]
  },
  {
   "cell_type": "code",
   "execution_count": 19,
   "metadata": {},
   "outputs": [],
   "source": [
    "#--------------------------------------------------------------------------\n",
    "#Sampling \n",
    "#--------------------------------------------------------------------------\n",
    "# Split into train/test splits first.\n",
    "set.seed(42)\n",
    "default_idx <- sample(nrow(Default), 2*ceiling(nrow(Default) / 3))\n",
    "default_trn <-  Default[default_idx, ]\n",
    "default_tst <- Default[-default_idx, ]"
   ]
  },
  {
   "cell_type": "code",
   "execution_count": 20,
   "metadata": {},
   "outputs": [
    {
     "data": {
      "text/plain": [
       "\n",
       "Call:\n",
       "glm(formula = default ~ balance + student, family = \"binomial\", \n",
       "    data = default_trn)\n",
       "\n",
       "Deviance Residuals: \n",
       "    Min       1Q   Median       3Q      Max  \n",
       "-2.3920  -0.1519  -0.0615  -0.0226   3.6946  \n",
       "\n",
       "Coefficients:\n",
       "              Estimate Std. Error z value Pr(>|z|)    \n",
       "(Intercept) -1.044e+01  4.357e-01 -23.950  < 2e-16 ***\n",
       "balance      5.536e-03  2.756e-04  20.086  < 2e-16 ***\n",
       "studentYes  -7.000e-01  1.774e-01  -3.947 7.92e-05 ***\n",
       "---\n",
       "Signif. codes:  0 '***' 0.001 '**' 0.01 '*' 0.05 '.' 0.1 ' ' 1\n",
       "\n",
       "(Dispersion parameter for binomial family taken to be 1)\n",
       "\n",
       "    Null deviance: 1933.7  on 6667  degrees of freedom\n",
       "Residual deviance: 1086.5  on 6665  degrees of freedom\n",
       "AIC: 1092.5\n",
       "\n",
       "Number of Fisher Scoring iterations: 8\n"
      ]
     },
     "metadata": {},
     "output_type": "display_data"
    }
   ],
   "source": [
    "#--------------------------------------------------------------------------\n",
    "#Build model \n",
    "#--------------------------------------------------------------------------\n",
    "model_glm <- glm(default ~ balance+student, data = default_trn, family = \"binomial\")\n",
    "summary(model_glm)"
   ]
  },
  {
   "cell_type": "code",
   "execution_count": 21,
   "metadata": {},
   "outputs": [
    {
     "data": {
      "text/html": [
       "<dl class=dl-horizontal>\n",
       "\t<dt>9149</dt>\n",
       "\t\t<dd>'No'</dd>\n",
       "\t<dt>9370</dt>\n",
       "\t\t<dd>'No'</dd>\n",
       "\t<dt>2861</dt>\n",
       "\t\t<dd>'No'</dd>\n",
       "\t<dt>8302</dt>\n",
       "\t\t<dd>'No'</dd>\n",
       "\t<dt>6415</dt>\n",
       "\t\t<dd>'No'</dd>\n",
       "\t<dt>5189</dt>\n",
       "\t\t<dd>'No'</dd>\n",
       "</dl>\n"
      ],
      "text/latex": [
       "\\begin{description*}\n",
       "\\item[9149] 'No'\n",
       "\\item[9370] 'No'\n",
       "\\item[2861] 'No'\n",
       "\\item[8302] 'No'\n",
       "\\item[6415] 'No'\n",
       "\\item[5189] 'No'\n",
       "\\end{description*}\n"
      ],
      "text/markdown": [
       "9149\n",
       ":   'No'9370\n",
       ":   'No'2861\n",
       ":   'No'8302\n",
       ":   'No'6415\n",
       ":   'No'5189\n",
       ":   'No'\n",
       "\n"
      ],
      "text/plain": [
       "9149 9370 2861 8302 6415 5189 \n",
       "\"No\" \"No\" \"No\" \"No\" \"No\" \"No\" "
      ]
     },
     "metadata": {},
     "output_type": "display_data"
    }
   ],
   "source": [
    "#Prediction \n",
    "trn_pred <- ifelse(predict(model_glm, type = \"response\") > 0.5, \"Yes\", \"No\")\n",
    "head(trn_pred)"
   ]
  },
  {
   "cell_type": "code",
   "execution_count": 22,
   "metadata": {},
   "outputs": [
    {
     "data": {
      "text/plain": [
       "         actual\n",
       "predicted   No  Yes\n",
       "      No  6424  159\n",
       "      Yes   24   61"
      ]
     },
     "metadata": {},
     "output_type": "display_data"
    }
   ],
   "source": [
    "# Making predictions on the train set.\n",
    "trn_prob <- predict(model_glm, newdata = default_trn, type = \"response\")\n",
    "trn_tab <- table(predicted = trn_pred, actual = default_trn$default)\n",
    "trn_tab"
   ]
  },
  {
   "cell_type": "code",
   "execution_count": 23,
   "metadata": {},
   "outputs": [
    {
     "data": {
      "text/plain": [
       "         actual\n",
       "predicted   No  Yes\n",
       "      No  3207   72\n",
       "      Yes   12   41"
      ]
     },
     "metadata": {},
     "output_type": "display_data"
    }
   ],
   "source": [
    "# Making predictions on the test set.\n",
    "tst_pred <- ifelse(predict(model_glm, newdata = default_tst, type = \"response\") > 0.5, \"Yes\", \"No\")\n",
    "tst_tab <- table(predicted = tst_pred, actual = default_tst$default)\n",
    "tst_tab"
   ]
  },
  {
   "cell_type": "code",
   "execution_count": 83,
   "metadata": {},
   "outputs": [
    {
     "data": {
      "text/html": [
       "0.0274445110977804"
      ],
      "text/latex": [
       "0.0274445110977804"
      ],
      "text/markdown": [
       "0.0274445110977804"
      ],
      "text/plain": [
       "[1] 0.02744451"
      ]
     },
     "metadata": {},
     "output_type": "display_data"
    }
   ],
   "source": [
    "# Build a function for Error \n",
    "calc_class_err <- function(actual, predicted) {\n",
    "  mean(actual != predicted)\n",
    "}\n",
    "\n",
    "calc_class_err(actual = default_trn$default, predicted = trn_pred)"
   ]
  },
  {
   "cell_type": "code",
   "execution_count": 84,
   "metadata": {},
   "outputs": [
    {
     "data": {
      "text/html": [
       "0.0252100840336134"
      ],
      "text/latex": [
       "0.0252100840336134"
      ],
      "text/markdown": [
       "0.0252100840336134"
      ],
      "text/plain": [
       "[1] 0.02521008"
      ]
     },
     "metadata": {},
     "output_type": "display_data"
    }
   ],
   "source": [
    "# Test error rate should be close to train error rate if model is fitted properly.\n",
    "calc_class_err(actual = default_tst$default, predicted = tst_pred)"
   ]
  },
  {
   "cell_type": "code",
   "execution_count": 86,
   "metadata": {},
   "outputs": [
    {
     "ename": "ERROR",
     "evalue": "Error in confusionMatrix(trn_tab, positive = \"Yes\"): unused argument (positive = \"Yes\")\n",
     "output_type": "error",
     "traceback": [
      "Error in confusionMatrix(trn_tab, positive = \"Yes\"): unused argument (positive = \"Yes\")\nTraceback:\n"
     ]
    }
   ],
   "source": [
    "#--------------------------------------------------------------------------\n",
    "# Model evaluation more deeper \n",
    "library(\"caret\")\n",
    "confusionMatrix(trn_tab, positive = \"Yes\")"
   ]
  },
  {
   "cell_type": "code",
   "execution_count": 87,
   "metadata": {},
   "outputs": [
    {
     "name": "stderr",
     "output_type": "stream",
     "text": [
      "Setting levels: control = No, case = Yes\n",
      "Setting direction: controls < cases\n"
     ]
    },
    {
     "data": {
      "image/png": "[encoded data removed]",
      "text/plain": [
       "plot without title"
      ]
     },
     "metadata": {},
     "output_type": "display_data"
    }
   ],
   "source": [
    "library(\"pROC\")\n",
    "test_prob <- predict(model_glm, newdata = default_tst, type = \"response\")\n",
    "test_roc <- roc(default_tst$default ~ test_prob, plot = TRUE, print.auc = TRUE)"
   ]
  },
  {
   "cell_type": "code",
   "execution_count": 88,
   "metadata": {},
   "outputs": [
    {
     "name": "stderr",
     "output_type": "stream",
     "text": [
      "Installing package into 'C:/Users/v m kishore/Documents/R/win-library/3.5'\n",
      "(as 'lib' is unspecified)\n",
      "Warning message:\n",
      "\"package 'InformationValue' is in use and will not be installed\""
     ]
    },
    {
     "data": {
      "text/html": [
       "<table>\n",
       "<thead><tr><th scope=col>rank</th><th scope=col>total_pop</th><th scope=col>non_responders</th><th scope=col>responders</th><th scope=col>expected_responders_by_random</th><th scope=col>perc_responders</th><th scope=col>perc_non_responders</th><th scope=col>cum_perc_responders</th><th scope=col>cum_perc_non_responders</th><th scope=col>difference</th></tr></thead>\n",
       "<tbody>\n",
       "\t<tr><td> 1         </td><td>667        </td><td>501        </td><td>166        </td><td>22.00660   </td><td>0.754545455</td><td>0.07769851 </td><td>0.7545455  </td><td>0.07769851 </td><td>0.6768469  </td></tr>\n",
       "\t<tr><td> 2         </td><td>667        </td><td>634        </td><td> 33        </td><td>22.00660   </td><td>0.150000000</td><td>0.09832506 </td><td>0.9045455  </td><td>0.17602357 </td><td>0.7285219  </td></tr>\n",
       "\t<tr><td> 3         </td><td>667        </td><td>653        </td><td> 14        </td><td>22.00660   </td><td>0.063636364</td><td>0.10127171 </td><td>0.9681818  </td><td>0.27729529 </td><td>0.6908865  </td></tr>\n",
       "\t<tr><td> 4         </td><td>667        </td><td>663        </td><td>  4        </td><td>22.00660   </td><td>0.018181818</td><td>0.10282258 </td><td>0.9863636  </td><td>0.38011787 </td><td>0.6062458  </td></tr>\n",
       "\t<tr><td> 5         </td><td>667        </td><td>667        </td><td>  0        </td><td>22.00660   </td><td>0.000000000</td><td>0.10344293 </td><td>0.9863636  </td><td>0.48356079 </td><td>0.5028028  </td></tr>\n",
       "\t<tr><td> 6         </td><td>667        </td><td>665        </td><td>  2        </td><td>22.00660   </td><td>0.009090909</td><td>0.10313275 </td><td>0.9954545  </td><td>0.58669355 </td><td>0.4087610  </td></tr>\n",
       "\t<tr><td> 7         </td><td>667        </td><td>666        </td><td>  1        </td><td>22.00660   </td><td>0.004545455</td><td>0.10328784 </td><td>1.0000000  </td><td>0.68998139 </td><td>0.3100186  </td></tr>\n",
       "\t<tr><td> 8         </td><td>667        </td><td>667        </td><td>  0        </td><td>22.00660   </td><td>0.000000000</td><td>0.10344293 </td><td>1.0000000  </td><td>0.79342432 </td><td>0.2065757  </td></tr>\n",
       "\t<tr><td> 9         </td><td>667        </td><td>667        </td><td>  0        </td><td>22.00660   </td><td>0.000000000</td><td>0.10344293 </td><td>1.0000000  </td><td>0.89686725 </td><td>0.1031328  </td></tr>\n",
       "\t<tr><td>10         </td><td>665        </td><td>665        </td><td>  0        </td><td>21.94061   </td><td>0.000000000</td><td>0.10313275 </td><td>1.0000000  </td><td>1.00000000 </td><td>0.0000000  </td></tr>\n",
       "</tbody>\n",
       "</table>\n"
      ],
      "text/latex": [
       "\\begin{tabular}{r|llllllllll}\n",
       " rank & total\\_pop & non\\_responders & responders & expected\\_responders\\_by\\_random & perc\\_responders & perc\\_non\\_responders & cum\\_perc\\_responders & cum\\_perc\\_non\\_responders & difference\\\\\n",
       "\\hline\n",
       "\t  1          & 667         & 501         & 166         & 22.00660    & 0.754545455 & 0.07769851  & 0.7545455   & 0.07769851  & 0.6768469  \\\\\n",
       "\t  2          & 667         & 634         &  33         & 22.00660    & 0.150000000 & 0.09832506  & 0.9045455   & 0.17602357  & 0.7285219  \\\\\n",
       "\t  3          & 667         & 653         &  14         & 22.00660    & 0.063636364 & 0.10127171  & 0.9681818   & 0.27729529  & 0.6908865  \\\\\n",
       "\t  4          & 667         & 663         &   4         & 22.00660    & 0.018181818 & 0.10282258  & 0.9863636   & 0.38011787  & 0.6062458  \\\\\n",
       "\t  5          & 667         & 667         &   0         & 22.00660    & 0.000000000 & 0.10344293  & 0.9863636   & 0.48356079  & 0.5028028  \\\\\n",
       "\t  6          & 667         & 665         &   2         & 22.00660    & 0.009090909 & 0.10313275  & 0.9954545   & 0.58669355  & 0.4087610  \\\\\n",
       "\t  7          & 667         & 666         &   1         & 22.00660    & 0.004545455 & 0.10328784  & 1.0000000   & 0.68998139  & 0.3100186  \\\\\n",
       "\t  8          & 667         & 667         &   0         & 22.00660    & 0.000000000 & 0.10344293  & 1.0000000   & 0.79342432  & 0.2065757  \\\\\n",
       "\t  9          & 667         & 667         &   0         & 22.00660    & 0.000000000 & 0.10344293  & 1.0000000   & 0.89686725  & 0.1031328  \\\\\n",
       "\t 10          & 665         & 665         &   0         & 21.94061    & 0.000000000 & 0.10313275  & 1.0000000   & 1.00000000  & 0.0000000  \\\\\n",
       "\\end{tabular}\n"
      ],
      "text/markdown": [
       "\n",
       "| rank | total_pop | non_responders | responders | expected_responders_by_random | perc_responders | perc_non_responders | cum_perc_responders | cum_perc_non_responders | difference |\n",
       "|---|---|---|---|---|---|---|---|---|---|\n",
       "|  1          | 667         | 501         | 166         | 22.00660    | 0.754545455 | 0.07769851  | 0.7545455   | 0.07769851  | 0.6768469   |\n",
       "|  2          | 667         | 634         |  33         | 22.00660    | 0.150000000 | 0.09832506  | 0.9045455   | 0.17602357  | 0.7285219   |\n",
       "|  3          | 667         | 653         |  14         | 22.00660    | 0.063636364 | 0.10127171  | 0.9681818   | 0.27729529  | 0.6908865   |\n",
       "|  4          | 667         | 663         |   4         | 22.00660    | 0.018181818 | 0.10282258  | 0.9863636   | 0.38011787  | 0.6062458   |\n",
       "|  5          | 667         | 667         |   0         | 22.00660    | 0.000000000 | 0.10344293  | 0.9863636   | 0.48356079  | 0.5028028   |\n",
       "|  6          | 667         | 665         |   2         | 22.00660    | 0.009090909 | 0.10313275  | 0.9954545   | 0.58669355  | 0.4087610   |\n",
       "|  7          | 667         | 666         |   1         | 22.00660    | 0.004545455 | 0.10328784  | 1.0000000   | 0.68998139  | 0.3100186   |\n",
       "|  8          | 667         | 667         |   0         | 22.00660    | 0.000000000 | 0.10344293  | 1.0000000   | 0.79342432  | 0.2065757   |\n",
       "|  9          | 667         | 667         |   0         | 22.00660    | 0.000000000 | 0.10344293  | 1.0000000   | 0.89686725  | 0.1031328   |\n",
       "| 10          | 665         | 665         |   0         | 21.94061    | 0.000000000 | 0.10313275  | 1.0000000   | 1.00000000  | 0.0000000   |\n",
       "\n"
      ],
      "text/plain": [
       "   rank total_pop non_responders responders expected_responders_by_random\n",
       "1   1   667       501            166        22.00660                     \n",
       "2   2   667       634             33        22.00660                     \n",
       "3   3   667       653             14        22.00660                     \n",
       "4   4   667       663              4        22.00660                     \n",
       "5   5   667       667              0        22.00660                     \n",
       "6   6   667       665              2        22.00660                     \n",
       "7   7   667       666              1        22.00660                     \n",
       "8   8   667       667              0        22.00660                     \n",
       "9   9   667       667              0        22.00660                     \n",
       "10 10   665       665              0        21.94061                     \n",
       "   perc_responders perc_non_responders cum_perc_responders\n",
       "1  0.754545455     0.07769851          0.7545455          \n",
       "2  0.150000000     0.09832506          0.9045455          \n",
       "3  0.063636364     0.10127171          0.9681818          \n",
       "4  0.018181818     0.10282258          0.9863636          \n",
       "5  0.000000000     0.10344293          0.9863636          \n",
       "6  0.009090909     0.10313275          0.9954545          \n",
       "7  0.004545455     0.10328784          1.0000000          \n",
       "8  0.000000000     0.10344293          1.0000000          \n",
       "9  0.000000000     0.10344293          1.0000000          \n",
       "10 0.000000000     0.10313275          1.0000000          \n",
       "   cum_perc_non_responders difference\n",
       "1  0.07769851              0.6768469 \n",
       "2  0.17602357              0.7285219 \n",
       "3  0.27729529              0.6908865 \n",
       "4  0.38011787              0.6062458 \n",
       "5  0.48356079              0.5028028 \n",
       "6  0.58669355              0.4087610 \n",
       "7  0.68998139              0.3100186 \n",
       "8  0.79342432              0.2065757 \n",
       "9  0.89686725              0.1031328 \n",
       "10 1.00000000              0.0000000 "
      ]
     },
     "metadata": {},
     "output_type": "display_data"
    },
    {
     "data": {
      "image/png": "[encoded data removed]",
      "text/plain": [
       "plot without title"
      ]
     },
     "metadata": {},
     "output_type": "display_data"
    }
   ],
   "source": [
    "install.packages(\"InformationValue\")\n",
    "library(InformationValue)\n",
    "#ks_plot(y_act, y_pred)\n",
    "#ks_plot(default_tst$default,test_prob)\n",
    "ks_stat(default_trn$default,trn_prob, returnKSTable = T)\n",
    "ks_plot(default_trn$default,trn_prob)\n",
    "\n",
    "# Follow the below link to understad this chart\n",
    "#https://www.machinelearningplus.com/machine-learning/evaluation-metrics-classification-models-r/"
   ]
  },
  {
   "cell_type": "code",
   "execution_count": 31,
   "metadata": {},
   "outputs": [
    {
     "name": "stderr",
     "output_type": "stream",
     "text": [
      "Warning message:\n",
      "\"Using size for a discrete variable is not advised.\""
     ]
    },
    {
     "data": {
      "image/png": "[encoded data removed]",
      "text/plain": [
       "plot without title"
      ]
     },
     "metadata": {},
     "output_type": "display_data"
    }
   ],
   "source": [
    "library(ggplot2)\n",
    "slope <- coef(model_glm)[2]/(-coef(model_glm)[3])\n",
    "intercept <- coef(model_glm)[1]/(-coef(model_glm)[3]) \n",
    "ggplot(Default,aes(x=balance,y=student,size=default,color=default))+geom_jitter()+geom_abline(intercept=intercept,slope=slope)\n",
    "  "
   ]
  },
  {
   "cell_type": "code",
   "execution_count": 40,
   "metadata": {},
   "outputs": [],
   "source": [
    "#--------------------------------------------------------------------------\n",
    "# Want to understand how the decision boundary is made ?\n",
    "# Reference Is below\n",
    "#https://stats.stackexchange.com/questions/6206/how-to-plot-decision-boundary-in-r-for-logistic-regression-model\n",
    "#--------------------------------------------------------------------------\n",
    "\n",
    "x1 <- rnorm(20, 1, 2)\n",
    "x2 <- rnorm(20)\n",
    "y <- sign(-1 - 2 * x1 + 4 * x2 )\n",
    "y[ y == -1] <- 0\n",
    "df <- cbind.data.frame( y, x1, x2)"
   ]
  },
  {
   "cell_type": "code",
   "execution_count": 54,
   "metadata": {},
   "outputs": [
    {
     "name": "stderr",
     "output_type": "stream",
     "text": [
      "Warning message:\n",
      "\"glm.fit: algorithm did not converge\"Warning message:\n",
      "\"glm.fit: fitted probabilities numerically 0 or 1 occurred\""
     ]
    }
   ],
   "source": [
    "mdl <- glm( y ~ . , data = df , family=binomial)"
   ]
  },
  {
   "cell_type": "code",
   "execution_count": 55,
   "metadata": {},
   "outputs": [],
   "source": [
    "slope <- coef(mdl)[2]/(-coef(mdl)[3])\n",
    "intercept <- coef(mdl)[1]/(-coef(mdl)[3]) "
   ]
  },
  {
   "cell_type": "code",
   "execution_count": 47,
   "metadata": {},
   "outputs": [
    {
     "data": {
      "image/png": "[encoded data removed]",
      "text/plain": [
       "plot without title"
      ]
     },
     "metadata": {},
     "output_type": "display_data"
    }
   ],
   "source": [
    "library(lattice)\n",
    "xyplot( x2 ~ x1 , data = df, groups = y,\n",
    "        panel=function(...){\n",
    "          panel.xyplot(...)\n",
    "          panel.abline(intercept , slope)\n",
    "          panel.grid(...)\n",
    "        })"
   ]
  }
 ],
 "metadata": {
  "kernelspec": {
   "display_name": "R",
   "language": "R",
   "name": "ir"
  },
  "language_info": {
   "codemirror_mode": "r",
   "file_extension": ".r",
   "mimetype": "text/x-r-source",
   "name": "R",
   "pygments_lexer": "r",
   "version": "3.5.1"
  }
 },
 "nbformat": 4,
 "nbformat_minor": 2
}
